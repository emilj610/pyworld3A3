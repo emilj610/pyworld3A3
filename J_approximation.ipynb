{
 "cells": [
  {
   "cell_type": "markdown",
   "metadata": {},
   "source": [
    "# Simulating J\n",
    "\n",
    "Following the study material and meeting on the 19th of February we will need to approximate the J function. Which gives the reward for this step taking into account all future steps. For this we first need to calculate it for different states"
   ]
  },
  {
   "cell_type": "code",
   "execution_count": 1,
   "metadata": {},
   "outputs": [],
   "source": [
    "import numpy as np\n",
    "from pyworld3 import World3\n",
    "from matplotlib import pyplot as plt\n",
    "import pandas as pd\n",
    "from tqdm import tqdm"
   ]
  },
  {
   "cell_type": "code",
   "execution_count": 2,
   "metadata": {},
   "outputs": [],
   "source": [
    "# population: p1, p2, p3, p4\n",
    "# capital: ic, sc\n",
    "# agriculture: al, pal, uil, lfert\n",
    "# pollution: ppol\n",
    "# resource: nr\n",
    "state_variables = [\"p1\", \"p2\", \"p3\", \"p4\", \"ic\", \"sc\", \"al\", \"pal\", \"uil\", \"lfert\", \"ppol\", \"nr\", \"time\"]"
   ]
  },
  {
   "cell_type": "markdown",
   "metadata": {
    "vscode": {
     "languageId": "latex"
    }
   },
   "source": [
    "## Definition of J and proposed reward function"
   ]
  },
  {
   "cell_type": "code",
   "execution_count": 3,
   "metadata": {},
   "outputs": [],
   "source": [
    "def J_func(reward):\n",
    "    \"\"\" \n",
    "    In:\n",
    "        reward - numpy array: rewards for the simlation\n",
    "    Out: \n",
    "        Array of J function values\n",
    "    \"\"\"\n",
    "    iterations = reward.shape[0]\n",
    "    J = np.zeros((iterations,1))\n",
    "    J[iterations-1] = reward[iterations-1]\n",
    "    for k in range(2,iterations+1):\n",
    "        # J[n] is the reward at step n plus J[n+1]\n",
    "        J[iterations-k] = reward[iterations-k] + J[iterations-k+1] \n",
    "    return J\n",
    "\n",
    "def reward_pop(world):\n",
    "    # reward function, trying simple with population\n",
    "    return world.pop"
   ]
  },
  {
   "cell_type": "markdown",
   "metadata": {},
   "source": [
    "### Testing on standard run"
   ]
  },
  {
   "cell_type": "code",
   "execution_count": 4,
   "metadata": {},
   "outputs": [],
   "source": [
    "world_standard = World3(year_max=2100)\n",
    "world_standard.set_world3_control()\n",
    "world_standard.init_world3_constants()\n",
    "world_standard.init_world3_variables()\n",
    "world_standard.set_world3_table_functions()\n",
    "world_standard.set_world3_delay_functions()\n",
    "world_standard.run_world3(fast=False)"
   ]
  },
  {
   "cell_type": "code",
   "execution_count": 5,
   "metadata": {},
   "outputs": [],
   "source": [
    "reward = reward_pop(world_standard)\n",
    "J = J_func(reward)"
   ]
  },
  {
   "cell_type": "markdown",
   "metadata": {},
   "source": [
    "## Random start\n",
    "To do this well we need to explore the entire space of possible states of the world3 model. FOr this we will take a randomized start. Exploring the entire state might require too much calculations, a full run takes approximately 1.8 seconds (dependent on computer). only $1000$ full runs will take about half an hour, therefore it might be better to try to only explore more relevant parts of the state space \\\n",
    "Current idea: Draw each state variable that we want to change from a gaussian distribution dependent on how they behave in the standard run. The year can be drawn from a uniform distribution."
   ]
  },
  {
   "cell_type": "code",
   "execution_count": 6,
   "metadata": {},
   "outputs": [],
   "source": [
    "def get_mu_sigma(world, variable):\n",
    "    data = getattr(world, variable)\n",
    "    mean = np.mean(data) \n",
    "    std = np.std(data)\n",
    "    return mean, std"
   ]
  },
  {
   "cell_type": "markdown",
   "metadata": {},
   "source": [
    "### Saving values\n",
    "All values need to be saved and stored some way. There are two parts to this, one storing at runtime. And then storing between runs. \\\n",
    "Between runs it is easiest to store it as a csv file with named columns to easier extract data at a later time. \\\n",
    "Runtime we should use numpy in calculations since it is fast, then create a pandas dataframe that easily can be converted to a csv file. \\\n",
    "Taking this into account when designing the main loop"
   ]
  },
  {
   "cell_type": "code",
   "execution_count": 7,
   "metadata": {},
   "outputs": [],
   "source": [
    "def generate_initial(total_runs, variables):\n",
    "    \"\"\" \n",
    "    In: \n",
    "        total_runs - int: total number of simulations to generate initial data for\n",
    "        variables  - list[String]: the variables that will be initialised randomly using the standard run\n",
    "    Out:\n",
    "        initial_variables - list[dictionary<String,float>]: Dictionary with the initial variables \n",
    "    \"\"\"\n",
    "    array = []\n",
    "    for _ in range(total_runs):\n",
    "        dict = {}\n",
    "        for variable in variables:\n",
    "            mu, sigma = get_mu_sigma(world_standard, variable)\n",
    "            value = np.random.normal(mu, sigma)\n",
    "            while value < 0:\n",
    "                value = np.random.normal(mu, sigma)\n",
    "            dict[variable+\"i\"]=value \n",
    "            \n",
    "\n",
    "        array.append(dict)\n",
    "    return array\n",
    "\n",
    "def main_loop(reward_func):\n",
    "    \"\"\" \n",
    "    In: \n",
    "        reward_func function: function that takes a world3 object as indata and returns an array of rewards\n",
    "    \"\"\"\n",
    "    \"\"\"\n",
    "    Need to randomize time, how?\n",
    "    \"\"\"\n",
    "    runs = 100\n",
    "    variables = state_variables\n",
    "    not_time_variables = [var for var in state_variables if var != 'time']\n",
    "    initial_values = generate_initial(runs, not_time_variables)\n",
    "    n = 401\n",
    "    df = pd.DataFrame(np.nan, index=range(n*runs), columns=variables)\n",
    "    df[\"J\"] = np.nan\n",
    "    for run in tqdm(range(runs)):\n",
    "        # running the model\n",
    "        world3 = World3(year_max=2100)\n",
    "        world3.set_world3_control()\n",
    "        world3.init_world3_constants(**initial_values[run])\n",
    "        world3.init_world3_variables()\n",
    "        world3.set_world3_table_functions()\n",
    "        world3.set_world3_delay_functions()\n",
    "        world3.run_world3(fast=False)\n",
    "\n",
    "        # reward and J\n",
    "        reward = reward_func(world3)\n",
    "        J = J_func(reward)\n",
    "        df.loc[n*run:n*(run+1)-1, \"J\"] = J\n",
    "\n",
    "        # writing to dataframe\n",
    "        for variable in variables:\n",
    "            column = getattr(world3, variable)\n",
    "            df.loc[n*run:n*(run+1)-1, variable] = column\n",
    "    return df"
   ]
  },
  {
   "cell_type": "code",
   "execution_count": 8,
   "metadata": {},
   "outputs": [
    {
     "name": "stderr",
     "output_type": "stream",
     "text": [
      "100%|██████████| 100/100 [02:55<00:00,  1.76s/it]\n"
     ]
    }
   ],
   "source": [
    "#main_loop()\n",
    "def g(world):\n",
    "    # reward function, trying simple with population\n",
    "    return world.pop\n",
    "\n",
    "dataframe = main_loop(g)\n",
    "\n",
    "# sparar till csv fil\n",
    "dataframe.to_csv(\"DataTest.csv\", index=False)"
   ]
  },
  {
   "cell_type": "markdown",
   "metadata": {},
   "source": []
  },
  {
   "cell_type": "code",
   "execution_count": 9,
   "metadata": {},
   "outputs": [
    {
     "data": {
      "image/png": "[encoded data removed]",
      "text/plain": [
       "<Figure size 640x480 with 1 Axes>"
      ]
     },
     "metadata": {},
     "output_type": "display_data"
    }
   ],
   "source": [
    "plt.scatter(dataframe[\"time\"], dataframe[\"J\"])\n",
    "plt.show()"
   ]
  },
  {
   "cell_type": "markdown",
   "metadata": {},
   "source": [
    "# Regression\n",
    "The next part is trying to fit a linear regression model to the simulated data. We'll start by doing a simple linear regression to get some understanding of which variables are important. Then we can keep the linear regression model to compare a neural network model to. "
   ]
  },
  {
   "cell_type": "markdown",
   "metadata": {},
   "source": [
    "## Linear regression model\n",
    "\n",
    "The model is trying to estimate J with $\\hat J=\\beta X$. Where $\\beta=(X^TX)^{-1}X^TJ$"
   ]
  },
  {
   "cell_type": "code",
   "execution_count": 10,
   "metadata": {},
   "outputs": [],
   "source": [
    "def get_beta(X, J):\n",
    "#    X = X / X.max()\n",
    "#    J = J / J.max()\n",
    "    X = np.concatenate([np.ones((X.shape[0],1)), X], axis=1)\n",
    "    beta = np.linalg.inv(X.T @ X) @ X.T @ J\n",
    "    return beta[0], beta[1:]\n",
    "\n",
    "df = dataframe # .apply(lambda x: x / x.max(), axis=0)\n",
    "\n",
    "beta_0, beta_hat = get_beta(df.drop(columns=[\"J\"]).to_numpy(), df[\"J\"].to_numpy())"
   ]
  },
  {
   "cell_type": "code",
   "execution_count": 11,
   "metadata": {},
   "outputs": [
    {
     "name": "stdout",
     "output_type": "stream",
     "text": [
      "p1 216.577\n",
      "p2 153.656\n",
      "p3 -132.244\n",
      "p4 103.106\n",
      "ic -0.031\n",
      "sc -0.05\n",
      "al -7.137\n",
      "pal 150.775\n",
      "uil 770.166\n",
      "lfert 846333053.804\n",
      "ppol 220.23\n",
      "nr 0.974\n",
      "time -5689733133.23\n"
     ]
    }
   ],
   "source": [
    "for i in range(len(beta_hat) - 1):\n",
    "    print(state_variables[i], round(beta_hat[i], 3))  \n",
    "\n",
    "print(\"time\", round(beta_hat[-1], 2))\n"
   ]
  },
  {
   "cell_type": "markdown",
   "metadata": {},
   "source": [
    "*comments:* \n",
    "The biggest contributor is time, which might be expected as there are lower rewards for higher times. (time is also normalized here). Then we have ic, al, nr as the biggest contributors. "
   ]
  },
  {
   "cell_type": "markdown",
   "metadata": {},
   "source": [
    "### Error estimation"
   ]
  },
  {
   "cell_type": "code",
   "execution_count": 12,
   "metadata": {},
   "outputs": [],
   "source": [
    "J_approx = beta_0 + (df.drop(columns=[\"J\"]).to_numpy() @ beta_hat)\n",
    "J_approx = J_approx.flatten()"
   ]
  },
  {
   "cell_type": "code",
   "execution_count": 13,
   "metadata": {},
   "outputs": [
    {
     "name": "stdout",
     "output_type": "stream",
     "text": [
      "1.8816017553779551e+22\n"
     ]
    }
   ],
   "source": [
    "error = (df[\"J\"] - J_approx) ** 2\n",
    "\n",
    "print(np.sum(error) / len(J_approx))"
   ]
  },
  {
   "cell_type": "markdown",
   "metadata": {},
   "source": [
    "*comments:* Feels very small, not sure what more to do to verify this"
   ]
  },
  {
   "cell_type": "markdown",
   "metadata": {},
   "source": [
    "# creating function based on linear regression model."
   ]
  },
  {
   "cell_type": "code",
   "execution_count": null,
   "metadata": {},
   "outputs": [],
   "source": []
  },
  {
   "cell_type": "markdown",
   "metadata": {},
   "source": [
    "## Trying to fit a neural net instead"
   ]
  },
  {
   "cell_type": "code",
   "execution_count": 14,
   "metadata": {},
   "outputs": [],
   "source": [
    "import torch\n",
    "import torch.nn as nn\n",
    "from sklearn.model_selection import train_test_split\n",
    "from sklearn.preprocessing import StandardScaler # testa denna på linear regression sen"
   ]
  },
  {
   "cell_type": "markdown",
   "metadata": {},
   "source": [
    "The neural network model, input layer hidden layer output layer"
   ]
  },
  {
   "cell_type": "code",
   "execution_count": 15,
   "metadata": {},
   "outputs": [],
   "source": [
    "class neuralNet(nn.Module):\n",
    "    def __init__(self, in_dim, out_dim):\n",
    "        super(neuralNet, self).__init__()\n",
    "        self.input_layer = nn.Linear(in_features=in_dim, out_features=64)\n",
    "        self.hidden_layer = nn.Linear(in_features=64, out_features=32) \n",
    "        self.outLayer = nn.Linear(in_features=32, out_features=out_dim)\n",
    "\n",
    "    def forward(self, x):\n",
    "        # forward pass with relu activation function\n",
    "        x = torch.relu(self.input_layer(x))\n",
    "        x = torch.relu(self.hidden_layer(x))\n",
    "        x = self.outLayer(x)\n",
    "        return x"
   ]
  },
  {
   "cell_type": "markdown",
   "metadata": {},
   "source": [
    "Data preprocessing"
   ]
  },
  {
   "cell_type": "code",
   "execution_count": 16,
   "metadata": {},
   "outputs": [],
   "source": [
    "X = dataframe.drop(columns=[\"J\"]).to_numpy()\n",
    "J = dataframe[\"J\"].to_numpy().reshape(-1,1)\n",
    "\n",
    "X_train, X_test, J_train, J_test = train_test_split(X, J, test_size=0.2, random_state=42)\n",
    "\n",
    "# normalizing\n",
    "X_normalizer = StandardScaler()\n",
    "X_train = X_normalizer.fit_transform(X_train)\n",
    "X_test = X_normalizer.transform(X_test)\n",
    "J_normalizer = StandardScaler()\n",
    "J_train = J_normalizer.fit_transform(J_train)\n",
    "J_test = J_normalizer.transform(J_test)\n",
    "\n",
    "# turning into pytorch tensors\n",
    "X_train = torch.tensor(X_train, dtype=torch.float32)\n",
    "X_test = torch.tensor(X_test, dtype=torch.float32)\n",
    "J_train = torch.tensor(J_train, dtype=torch.float32)\n",
    "J_test = torch.tensor(J_test, dtype=torch.float32)"
   ]
  },
  {
   "cell_type": "markdown",
   "metadata": {},
   "source": [
    "Training of the model using mean squared error and Adam optimizer"
   ]
  },
  {
   "cell_type": "code",
   "execution_count": 17,
   "metadata": {},
   "outputs": [
    {
     "name": "stdout",
     "output_type": "stream",
     "text": [
      "Epoch 200 Loss: 0.0014042833354324102\n",
      "Epoch 400 Loss: 0.000538953288923949\n",
      "Epoch 600 Loss: 0.00037533670547418296\n",
      "Epoch 800 Loss: 0.0007262257859110832\n",
      "Epoch 1000 Loss: 0.0001980426604859531\n"
     ]
    }
   ],
   "source": [
    "model = neuralNet(X_train.shape[1], 1)\n",
    "loss_func = nn.MSELoss() \n",
    "optimizer = torch.optim.Adam(model.parameters(), lr=0.01)\n",
    "\n",
    "epochs = 1000\n",
    "model.train()\n",
    "\n",
    "for epoch in range(epochs):\n",
    "    J_pred = model.forward(X_train)\n",
    "    loss = loss_func(J_pred, J_train)\n",
    "\n",
    "    optimizer.zero_grad() \n",
    "    loss.backward() \n",
    "    optimizer.step() \n",
    "    \n",
    "    if (epoch + 1) % (epochs / 5) == 0:\n",
    "        print(\"Epoch\", epoch+1, \"Loss:\", loss.item())"
   ]
  },
  {
   "cell_type": "markdown",
   "metadata": {},
   "source": [
    "Evaluation of the model"
   ]
  },
  {
   "cell_type": "code",
   "execution_count": 18,
   "metadata": {},
   "outputs": [
    {
     "name": "stdout",
     "output_type": "stream",
     "text": [
      "Error on test set: 0.0002263681381009519\n"
     ]
    }
   ],
   "source": [
    "model.eval()\n",
    "\n",
    "with torch.no_grad():\n",
    "    J_pred = model.forward(X_test)\n",
    "    loss = loss_func(J_pred, J_test)\n",
    "\n",
    "    print(\"Error on test set:\", loss.item())"
   ]
  },
  {
   "cell_type": "code",
   "execution_count": 53,
   "metadata": {},
   "outputs": [],
   "source": [
    "def nn_func(model, world, k):\n",
    "    model.eval()\n",
    "    state = np.array([getattr(world, var)[k] for var in state_variables])\n",
    "    state = X_normalizer.transform(state.reshape(1, -1))\n",
    "    state = torch.tensor(state, dtype=torch.float32)\n",
    "    with torch.no_grad():\n",
    "        J_ = model.forward(state)\n",
    "    return J_.item()"
   ]
  },
  {
   "cell_type": "markdown",
   "metadata": {},
   "source": [
    "# Optimisation\n",
    "Next up is to try to optimize the control signals. This will b done by in every iteration generating 50?? control values, looking one step ahead, approximating J with $\\hat J$ and taking the best option. \\\n",
    "For this we will need a new loop to manually take the simulation forward to be able to also step back and choose the best option. \\\n",
    "We have some options here, one is to just make copies of the world3 and taking the copies one step forward, another is to work with the same object and working with k explicitly."
   ]
  },
  {
   "cell_type": "code",
   "execution_count": 19,
   "metadata": {},
   "outputs": [],
   "source": [
    "def regress_model(world, k):\n",
    "    state = np.array([getattr(world, var)[k] for var in state_variables])\n",
    "    return beta_0 + state @ beta_hat"
   ]
  },
  {
   "cell_type": "code",
   "execution_count": 116,
   "metadata": {},
   "outputs": [],
   "source": [
    "def loop0(world):\n",
    "    world.redo_loop = True\n",
    "    while world.redo_loop:  # unsorted updates at initialization only\n",
    "        world.redo_loop = False\n",
    "        world.loop0_population()\n",
    "        world.loop0_capital()\n",
    "        world.loop0_agriculture()\n",
    "        world.loop0_pollution()\n",
    "        world.loop0_resource()\n",
    "    \n",
    "\n",
    "def generate_fioac_control_values():\n",
    "    return np.linspace(0.3,0.6,100)\n",
    "\n",
    "def get_best_control(world3, k, J_hat):\n",
    "    # _self._loopk_world3_fast(k_ - 1, k_, k_ - 1, k_)  # sorted updates\n",
    "    best_J = 0\n",
    "    control = 0\n",
    "    fioac_controls = generate_fioac_control_values()\n",
    "    for val in fioac_controls:\n",
    "        if k > 380:\n",
    "            return 0.43\n",
    "        world3.fioac_control = lambda _: val\n",
    "        for k_new in range(k,k+20):\n",
    "            world3._loopk_world3_fast(k_new-1, k_new, k_new-1, k_new)\n",
    "            J = J_hat(world3, k_new) # iffy\n",
    "        if J > best_J:\n",
    "            best_J = J\n",
    "            control = val\n",
    "    return control"
   ]
  },
  {
   "cell_type": "code",
   "execution_count": 117,
   "metadata": {},
   "outputs": [
    {
     "name": "stderr",
     "output_type": "stream",
     "text": [
      "  0%|          | 0/400 [00:00<?, ?it/s]"
     ]
    },
    {
     "name": "stderr",
     "output_type": "stream",
     "text": [
      "100%|██████████| 400/400 [01:54<00:00,  3.51it/s]\n"
     ]
    }
   ],
   "source": [
    "world_control = World3(year_max=2100)\n",
    "world_control.set_world3_control()\n",
    "world_control.init_world3_constants()\n",
    "world_control.init_world3_variables()\n",
    "world_control.set_world3_table_functions()\n",
    "world_control.set_world3_delay_functions()\n",
    "\n",
    "# loop0 first\n",
    "loop0(world_control)\n",
    "for k in tqdm(range(1,world_control.n)):\n",
    "    if k % 10 == 0:\n",
    "        control_val = get_best_control(world_control, k, lambda world, k: nn_func(model, world, k))\n",
    "        world_control.fioac_control = lambda _: control_val\n",
    "    world_control._loopk_world3_fast(k -1, k, k-1, k)\n"
   ]
  },
  {
   "cell_type": "code",
   "execution_count": 120,
   "metadata": {},
   "outputs": [
    {
     "data": {
      "text/plain": [
       "<matplotlib.legend.Legend at 0x20e124066d0>"
      ]
     },
     "execution_count": 120,
     "metadata": {},
     "output_type": "execute_result"
    },
    {
     "data": {
      "image/png": "[encoded data removed]",
      "text/plain": [
       "<Figure size 640x480 with 1 Axes>"
      ]
     },
     "metadata": {},
     "output_type": "display_data"
    }
   ],
   "source": [
    "start = 0\n",
    "end = 400\n",
    "plt.plot(world_standard.time[start:end], world_standard.pop[start:end], label=\"standard\")\n",
    "plt.plot(world_control.time[start:end], world_control.pop[start:end], label=\"control\")\n",
    "plt.grid()\n",
    "plt.legend()"
   ]
  },
  {
   "cell_type": "code",
   "execution_count": null,
   "metadata": {},
   "outputs": [
    {
     "data": {
      "image/png": "[encoded data removed]",
      "text/plain": [
       "<Figure size 640x480 with 1 Axes>"
      ]
     },
     "metadata": {},
     "output_type": "display_data"
    }
   ],
   "source": [
    "J_control = J_func(world_control.pop)\n",
    "nn_approx = np.zeros((world_control.n,1))\n",
    "\n",
    "for k in range(0, world_control.n):\n",
    "    nn_approx[k] = nn_func(model, world_control, k)\n",
    "\n",
    "\n",
    "plt.plot(nn_approx, label=\"nn on control\")\n",
    "plt.plot(J_normalizer.transform(J_control), label=\"control\")\n",
    "plt.legend()\n",
    "plt.show()"
   ]
  }
 ],
 "metadata": {
  "kernelspec": {
   "display_name": "base",
   "language": "python",
   "name": "python3"
  },
  "language_info": {
   "codemirror_mode": {
    "name": "ipython",
    "version": 3
   },
   "file_extension": ".py",
   "mimetype": "text/x-python",
   "name": "python",
   "nbconvert_exporter": "python",
   "pygments_lexer": "ipython3",
   "version": "3.11.4"
  }
 },
 "nbformat": 4,
 "nbformat_minor": 2
}

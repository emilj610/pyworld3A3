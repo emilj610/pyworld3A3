{
 "cells": [
  {
   "cell_type": "markdown",
   "metadata": {},
   "source": [
    "# Simulating J\n",
    "\n",
    "Following the study material and meeting on the 19th of February we will need to approximate the J function. Which gives the reward for this step taking into account all future steps. For this we first need to calculate it for different states"
   ]
  },
  {
   "cell_type": "code",
   "execution_count": 115,
   "metadata": {},
   "outputs": [],
   "source": [
    "import numpy as np\n",
    "from pyworld3 import World3\n",
    "from matplotlib import pyplot as plt\n",
    "import pandas as pd"
   ]
  },
  {
   "cell_type": "markdown",
   "metadata": {
    "vscode": {
     "languageId": "latex"
    }
   },
   "source": [
    "## Definition of J and proposed reward function"
   ]
  },
  {
   "cell_type": "code",
   "execution_count": 116,
   "metadata": {},
   "outputs": [],
   "source": [
    "def J_func(reward):\n",
    "    \"\"\" \n",
    "    In:\n",
    "        reward - numpy array: rewards for the simlation\n",
    "    Out: \n",
    "        Array of J function values\n",
    "    \"\"\"\n",
    "    iterations = reward.shape[0]\n",
    "    J = np.zeros((iterations,1))\n",
    "    J[iterations-1] = reward[iterations-1]\n",
    "    for k in range(2,iterations+1):\n",
    "        # J[n] is the reward at step n plus J[n+1]\n",
    "        J[iterations-k] = reward[iterations-k] + J[iterations-k+1] \n",
    "    return J\n",
    "\n",
    "def reward_pop(world):\n",
    "    # reward function, trying simple with population\n",
    "    return world.pop"
   ]
  },
  {
   "cell_type": "markdown",
   "metadata": {},
   "source": [
    "### Testing on standard run"
   ]
  },
  {
   "cell_type": "code",
   "execution_count": 117,
   "metadata": {},
   "outputs": [],
   "source": [
    "world_standard = World3(year_max=2100)\n",
    "world_standard.set_world3_control()\n",
    "world_standard.init_world3_constants()\n",
    "world_standard.init_world3_variables()\n",
    "world_standard.set_world3_table_functions()\n",
    "world_standard.set_world3_delay_functions()\n",
    "world_standard.run_world3(fast=False)"
   ]
  },
  {
   "cell_type": "code",
   "execution_count": 118,
   "metadata": {},
   "outputs": [],
   "source": [
    "reward = reward_pop(world_standard)\n",
    "J = J_func(reward)"
   ]
  },
  {
   "cell_type": "markdown",
   "metadata": {},
   "source": [
    "## Random start\n",
    "To do this well we need to explore the entire space of possible states of the world3 model. FOr this we will take a randomized start. Exploring the entire state might require too much calculations, a full run takes approximately 1.8 seconds (dependent on computer). only $1000$ full runs will take about half an hour, therefore it might be better to try to only explore more relevant parts of the state space \\\n",
    "Current idea: Draw each state variable that we want to change from a gaussian distribution dependent on how they behave in the standard run. The year can be drawn from a uniform distribution."
   ]
  },
  {
   "cell_type": "code",
   "execution_count": 119,
   "metadata": {},
   "outputs": [],
   "source": [
    "def get_mu_sigma(world, variable):\n",
    "    data = getattr(world, variable)\n",
    "    mean = np.mean(data) \n",
    "    std = np.std(data)\n",
    "    return mean, std"
   ]
  },
  {
   "cell_type": "markdown",
   "metadata": {},
   "source": [
    "### Saving values\n",
    "All values need to be saved and stored some way. There are two parts to this, one storing at runtime. And then storing between runs. \\\n",
    "Between runs it is easiest to store it as a csv file with named columns to easier extract data at a later time. \\\n",
    "Runtime we should use numpy in calculations since it is fast, then create a pandas dataframe that easily can be converted to a csv file. \\\n",
    "Taking this into account when designing the main loop"
   ]
  },
  {
   "cell_type": "code",
   "execution_count": 120,
   "metadata": {},
   "outputs": [],
   "source": [
    "def generate_initial(total_runs, variables):\n",
    "    \"\"\" \n",
    "    In: \n",
    "        total_runs - int: total number of simulations to generate initial data for\n",
    "        variables  - list[String]: the variables that will be initialised randomly using the standard run\n",
    "    Out:\n",
    "        initial_variables - list[dictionary<String,float>]: Dictionary with the initial variables \n",
    "    \"\"\"\n",
    "    array = []\n",
    "    for _ in range(total_runs):\n",
    "        dict = {}\n",
    "        for variable in variables:\n",
    "            mu, sigma = get_mu_sigma(world_standard, variable)\n",
    "            value = np.random.normal(mu, sigma)\n",
    "            while value < 0:\n",
    "                value = np.random.normal(mu, sigma)\n",
    "            dict[variable+\"i\"]=value \n",
    "            \n",
    "\n",
    "        array.append(dict)\n",
    "    return array\n",
    "\n",
    "def main_loop(reward_func):\n",
    "    \"\"\" \n",
    "    In: \n",
    "        reward_func function: function that takes a world3 object as indata and returns an array of rewards\n",
    "    \"\"\"\n",
    "    runs = 10\n",
    "    variables = [\"p1\",\"p2\",\"p3\",\"p4\",\"nr\"]\n",
    "    initial_values = generate_initial(runs, variables)\n",
    "    # behöver en numpy array att lagra alla J i, hur stor? storlek på varje run x state variables + tid\n",
    "    n = 401\n",
    "    variables.append(\"time\")\n",
    "    df = pd.DataFrame(np.nan, index=range(n*runs), columns=variables)\n",
    "    df[\"J\"] = np.nan\n",
    "    for run in range(runs):\n",
    "        # running the model\n",
    "        world3 = World3(year_max=2100)\n",
    "        world3.set_world3_control()\n",
    "        world3.init_world3_constants(**initial_values[run])\n",
    "        world3.init_world3_variables()\n",
    "        world3.set_world3_table_functions()\n",
    "        world3.set_world3_delay_functions()\n",
    "        world3.run_world3(fast=False)\n",
    "\n",
    "        # reward and J\n",
    "        reward = reward_func(world3)\n",
    "        J = J_func(reward)\n",
    "        df.loc[n*run:n*(run+1)-1, \"J\"] = J\n",
    "\n",
    "        # writing to dataframe\n",
    "        for variable in variables:\n",
    "            column = getattr(world3, variable)\n",
    "            df.loc[n*run:n*(run+1)-1, variable] = column\n",
    "        print(\"loop \", run+1, \" complete\")\n",
    "    return df"
   ]
  },
  {
   "cell_type": "code",
   "execution_count": 121,
   "metadata": {},
   "outputs": [
    {
     "name": "stdout",
     "output_type": "stream",
     "text": [
      "loop  1  complete\n",
      "loop  2  complete\n",
      "loop  3  complete\n",
      "loop  4  complete\n",
      "loop  5  complete\n",
      "loop  6  complete\n",
      "loop  7  complete\n",
      "loop  8  complete\n",
      "loop  9  complete\n",
      "loop  10  complete\n"
     ]
    }
   ],
   "source": [
    "#main_loop()\n",
    "def g(world):\n",
    "    # reward function, trying simple with population\n",
    "    return world.le\n",
    "\n",
    "dataframe = main_loop(g)\n",
    "\n",
    "# sparar till csv fil\n",
    "dataframe.to_csv(\"DataTest.csv\", index=False)"
   ]
  },
  {
   "cell_type": "markdown",
   "metadata": {},
   "source": []
  },
  {
   "cell_type": "code",
   "execution_count": 126,
   "metadata": {},
   "outputs": [
    {
     "data": {
      "image/png": "[encoded data removed]",
      "text/plain": [
       "<Figure size 640x480 with 1 Axes>"
      ]
     },
     "metadata": {},
     "output_type": "display_data"
    }
   ],
   "source": [
    "plt.scatter(dataframe[\"p1\"], dataframe[\"J\"])\n",
    "plt.show()"
   ]
  }
 ],
 "metadata": {
  "kernelspec": {
   "display_name": "Python 3",
   "language": "python",
   "name": "python3"
  },
  "language_info": {
   "codemirror_mode": {
    "name": "ipython",
    "version": 3
   },
   "file_extension": ".py",
   "mimetype": "text/x-python",
   "name": "python",
   "nbconvert_exporter": "python",
   "pygments_lexer": "ipython3",
   "version": "3.9.7"
  }
 },
 "nbformat": 4,
 "nbformat_minor": 2
}

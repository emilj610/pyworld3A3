{
 "cells": [
  {
   "cell_type": "markdown",
   "metadata": {},
   "source": [
    "# Simulating J\n",
    "\n",
    "Following the study material and meeting on the 19th of February we will need to approximate the J function. Which gives the reward for this step taking into account all future steps. For this we first need to calculate it for different states"
   ]
  },
  {
   "cell_type": "code",
   "execution_count": 42,
   "metadata": {},
   "outputs": [],
   "source": [
    "import numpy as np\n",
    "from pyworld3 import World3\n",
    "from matplotlib import pyplot as plt\n",
    "import pandas as pd\n",
    "from tqdm import tqdm"
   ]
  },
  {
   "cell_type": "code",
   "execution_count": 52,
   "metadata": {},
   "outputs": [],
   "source": [
    "# population: p1, p2, p3, p4\n",
    "# capital: ic, sc\n",
    "# agriculture: al, pal, uil, lfert\n",
    "# pollution: ppol\n",
    "# resource: nr\n",
    "state_variables = [\"p1\", \"p2\", \"p3\", \"p4\", \"ic\", \"sc\", \"al\", \"pal\", \"uil\", \"lfert\", \"ppol\", \"nr\"]"
   ]
  },
  {
   "cell_type": "markdown",
   "metadata": {
    "vscode": {
     "languageId": "latex"
    }
   },
   "source": [
    "## Definition of J and proposed reward function"
   ]
  },
  {
   "cell_type": "code",
   "execution_count": 53,
   "metadata": {},
   "outputs": [],
   "source": [
    "def J_func(reward):\n",
    "    \"\"\" \n",
    "    In:\n",
    "        reward - numpy array: rewards for the simlation\n",
    "    Out: \n",
    "        Array of J function values\n",
    "    \"\"\"\n",
    "    iterations = reward.shape[0]\n",
    "    J = np.zeros((iterations,1))\n",
    "    J[iterations-1] = reward[iterations-1]\n",
    "    for k in range(2,iterations+1):\n",
    "        # J[n] is the reward at step n plus J[n+1]\n",
    "        J[iterations-k] = reward[iterations-k] + J[iterations-k+1] \n",
    "    return J\n",
    "\n",
    "def reward_pop(world):\n",
    "    # reward function, trying simple with population\n",
    "    return world.pop"
   ]
  },
  {
   "cell_type": "markdown",
   "metadata": {},
   "source": [
    "### Testing on standard run"
   ]
  },
  {
   "cell_type": "code",
   "execution_count": 54,
   "metadata": {},
   "outputs": [],
   "source": [
    "world_standard = World3(year_max=2100)\n",
    "world_standard.set_world3_control()\n",
    "world_standard.init_world3_constants()\n",
    "world_standard.init_world3_variables()\n",
    "world_standard.set_world3_table_functions()\n",
    "world_standard.set_world3_delay_functions()\n",
    "world_standard.run_world3(fast=False)"
   ]
  },
  {
   "cell_type": "code",
   "execution_count": 55,
   "metadata": {},
   "outputs": [],
   "source": [
    "reward = reward_pop(world_standard)\n",
    "J = J_func(reward)"
   ]
  },
  {
   "cell_type": "markdown",
   "metadata": {},
   "source": [
    "## Random start\n",
    "To do this well we need to explore the entire space of possible states of the world3 model. FOr this we will take a randomized start. Exploring the entire state might require too much calculations, a full run takes approximately 1.8 seconds (dependent on computer). only $1000$ full runs will take about half an hour, therefore it might be better to try to only explore more relevant parts of the state space \\\n",
    "Current idea: Draw each state variable that we want to change from a gaussian distribution dependent on how they behave in the standard run. The year can be drawn from a uniform distribution."
   ]
  },
  {
   "cell_type": "code",
   "execution_count": 56,
   "metadata": {},
   "outputs": [],
   "source": [
    "def get_mu_sigma(world, variable):\n",
    "    data = getattr(world, variable)\n",
    "    mean = np.mean(data) \n",
    "    std = np.std(data)\n",
    "    return mean, std"
   ]
  },
  {
   "cell_type": "markdown",
   "metadata": {},
   "source": [
    "### Saving values\n",
    "All values need to be saved and stored some way. There are two parts to this, one storing at runtime. And then storing between runs. \\\n",
    "Between runs it is easiest to store it as a csv file with named columns to easier extract data at a later time. \\\n",
    "Runtime we should use numpy in calculations since it is fast, then create a pandas dataframe that easily can be converted to a csv file. \\\n",
    "Taking this into account when designing the main loop"
   ]
  },
  {
   "cell_type": "code",
   "execution_count": 57,
   "metadata": {},
   "outputs": [],
   "source": [
    "def generate_initial(total_runs, variables):\n",
    "    \"\"\" \n",
    "    In: \n",
    "        total_runs - int: total number of simulations to generate initial data for\n",
    "        variables  - list[String]: the variables that will be initialised randomly using the standard run\n",
    "    Out:\n",
    "        initial_variables - list[dictionary<String,float>]: Dictionary with the initial variables \n",
    "    \"\"\"\n",
    "    array = []\n",
    "    for _ in range(total_runs):\n",
    "        dict = {}\n",
    "        for variable in variables:\n",
    "            mu, sigma = get_mu_sigma(world_standard, variable)\n",
    "            value = np.random.normal(mu, sigma)\n",
    "            while value < 0:\n",
    "                value = np.random.normal(mu, sigma)\n",
    "            dict[variable+\"i\"]=value \n",
    "            \n",
    "\n",
    "        array.append(dict)\n",
    "    return array\n",
    "\n",
    "def main_loop(reward_func):\n",
    "    \"\"\" \n",
    "    In: \n",
    "        reward_func function: function that takes a world3 object as indata and returns an array of rewards\n",
    "    \"\"\"\n",
    "    \"\"\"\n",
    "    Need to randomize time, how?\n",
    "    \"\"\"\n",
    "    runs = 100\n",
    "    variables = state_variables\n",
    "    initial_values = generate_initial(runs, variables)\n",
    "    n = 401\n",
    "    variables.append(\"time\")\n",
    "    df = pd.DataFrame(np.nan, index=range(n*runs), columns=variables)\n",
    "    df[\"J\"] = np.nan\n",
    "    for run in tqdm(range(runs)):\n",
    "        # running the model\n",
    "        world3 = World3(year_max=2100)\n",
    "        world3.set_world3_control()\n",
    "        world3.init_world3_constants(**initial_values[run])\n",
    "        world3.init_world3_variables()\n",
    "        world3.set_world3_table_functions()\n",
    "        world3.set_world3_delay_functions()\n",
    "        world3.run_world3(fast=False)\n",
    "\n",
    "        # reward and J\n",
    "        reward = reward_func(world3)\n",
    "        J = J_func(reward)\n",
    "        df.loc[n*run:n*(run+1)-1, \"J\"] = J\n",
    "\n",
    "        # writing to dataframe\n",
    "        for variable in variables:\n",
    "            column = getattr(world3, variable)\n",
    "            df.loc[n*run:n*(run+1)-1, variable] = column\n",
    "    return df"
   ]
  },
  {
   "cell_type": "code",
   "execution_count": 58,
   "metadata": {},
   "outputs": [
    {
     "name": "stderr",
     "output_type": "stream",
     "text": [
      "100%|██████████| 100/100 [02:31<00:00,  1.52s/it]\n"
     ]
    }
   ],
   "source": [
    "#main_loop()\n",
    "def g(world):\n",
    "    # reward function, trying simple with population\n",
    "    return world.le\n",
    "\n",
    "dataframe = main_loop(g)\n",
    "\n",
    "# sparar till csv fil\n",
    "dataframe.to_csv(\"DataTest.csv\", index=False)"
   ]
  },
  {
   "cell_type": "markdown",
   "metadata": {},
   "source": []
  },
  {
   "cell_type": "code",
   "execution_count": 66,
   "metadata": {},
   "outputs": [
    {
     "data": {
      "image/png": "[encoded data removed]",
      "text/plain": [
       "<Figure size 640x480 with 1 Axes>"
      ]
     },
     "metadata": {},
     "output_type": "display_data"
    }
   ],
   "source": [
    "plt.scatter(dataframe[\"time\"], dataframe[\"J\"])\n",
    "plt.show()"
   ]
  },
  {
   "cell_type": "markdown",
   "metadata": {},
   "source": [
    "# Linear regression\n",
    "The next part is trying to fit a linear regression model to the simulated data. We'll start by doing a simple linear regression to get some understanding of which variables are important. Then we can keep the linear regression model to compare a neural network model to. "
   ]
  },
  {
   "cell_type": "markdown",
   "metadata": {},
   "source": [
    "## Linear regression model\n",
    "\n",
    "The model is trying to estimate J with $\\hat J=\\beta X$. Where $\\beta=(X^TX)^{-1}X^TJ$"
   ]
  },
  {
   "cell_type": "code",
   "execution_count": 136,
   "metadata": {},
   "outputs": [],
   "source": [
    "def get_beta(X, J):\n",
    "    X = X / X.max()\n",
    "    J = J / J.max()\n",
    "    X = np.concatenate([np.ones((X.shape[0],1)), X], axis=1)\n",
    "    beta = np.linalg.inv(X.T @ X) @ X.T @ J\n",
    "    return beta[0], beta[1:]\n",
    "\n",
    "df = dataframe.apply(lambda x: x / x.max(), axis=0)\n",
    "\n",
    "beta_0, beta_hat = get_beta(df.drop(columns=[\"J\"]).to_numpy(), df[\"J\"].to_numpy())"
   ]
  },
  {
   "cell_type": "code",
   "execution_count": 137,
   "metadata": {},
   "outputs": [
    {
     "name": "stdout",
     "output_type": "stream",
     "text": [
      "p1 -0.055\n",
      "p2 -0.472\n",
      "p3 0.032\n",
      "p4 0.058\n",
      "ic 0.248\n",
      "sc 0.083\n",
      "al 0.104\n",
      "pal 0.032\n",
      "uil -0.015\n",
      "lfert -0.071\n",
      "ppol -0.108\n",
      "nr 0.173\n",
      "time -6.74\n"
     ]
    }
   ],
   "source": [
    "for i in range(len(beta_hat) - 1):\n",
    "    print(state_variables[i], round(beta_hat[i], 3))  \n",
    "\n",
    "print(\"time\", round(beta_hat[-1], 2))\n"
   ]
  },
  {
   "cell_type": "markdown",
   "metadata": {},
   "source": [
    "*comments:* \n",
    "The biggest contributor is time, which might be expected as there are lower rewards for higher times. (time is also normalized here). Then we have ic, al, nr as the biggest contributors. "
   ]
  },
  {
   "cell_type": "markdown",
   "metadata": {},
   "source": [
    "### Error estimation"
   ]
  },
  {
   "cell_type": "code",
   "execution_count": 144,
   "metadata": {},
   "outputs": [],
   "source": [
    "J_approx = beta_0 + (df.drop(columns=[\"J\"]).to_numpy() @ beta_hat)\n",
    "J_approx = J_approx.flatten()"
   ]
  },
  {
   "cell_type": "code",
   "execution_count": 145,
   "metadata": {},
   "outputs": [
    {
     "name": "stdout",
     "output_type": "stream",
     "text": [
      "0.0005003075574881872\n"
     ]
    }
   ],
   "source": [
    "error = (df[\"J\"] - J_approx) ** 2\n",
    "\n",
    "print(np.sum(error) / len(J_approx))"
   ]
  },
  {
   "cell_type": "markdown",
   "metadata": {},
   "source": [
    "*comments:* Feels very small, not sure what more to do to verify this"
   ]
  },
  {
   "cell_type": "markdown",
   "metadata": {},
   "source": [
    "## Trying to fit a neural net instead"
   ]
  },
  {
   "cell_type": "code",
   "execution_count": null,
   "metadata": {},
   "outputs": [],
   "source": [
    "import torch\n",
    "import torch.nn as nn"
   ]
  },
  {
   "cell_type": "code",
   "execution_count": null,
   "metadata": {},
   "outputs": [],
   "source": [
    "class neuralNet(nn.module):\n",
    "    def __init__(self, in_dim, out_dim):\n",
    "        super(neuralNet, self).__init__()\n",
    "        self.layer1 = nn.Linear(in_features=in_dim, out_features=64)\n",
    "        self.layer2 = nn.Linear(in_features=64, out_features=32) \n",
    "        self.outLayer = nn.Linear(in_features=32, out_features=1)\n",
    "\n",
    "    def forward(self, x):\n",
    "        # forward pass with relu activation function\n",
    "        x = torch.relu(self.layer1(x))\n",
    "        x = torch.relu(self.layer2(x))\n",
    "        x = self.outLayer(x)\n",
    "        return x\n",
    "    \n"
   ]
  },
  {
   "cell_type": "markdown",
   "metadata": {},
   "source": []
  }
 ],
 "metadata": {
  "kernelspec": {
   "display_name": "base",
   "language": "python",
   "name": "python3"
  },
  "language_info": {
   "codemirror_mode": {
    "name": "ipython",
    "version": 3
   },
   "file_extension": ".py",
   "mimetype": "text/x-python",
   "name": "python",
   "nbconvert_exporter": "python",
   "pygments_lexer": "ipython3",
   "version": "3.11.4"
  }
 },
 "nbformat": 4,
 "nbformat_minor": 2
}
